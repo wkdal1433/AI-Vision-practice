{
 "cells": [
  {
   "cell_type": "code",
   "execution_count": 1,
   "metadata": {},
   "outputs": [
    {
     "name": "stderr",
     "output_type": "stream",
     "text": [
      "C:\\Users\\wkdal\\AppData\\Local\\Packages\\PythonSoftwareFoundation.Python.3.9_qbz5n2kfra8p0\\LocalCache\\local-packages\\Python39\\site-packages\\tqdm\\auto.py:21: TqdmWarning: IProgress not found. Please update jupyter and ipywidgets. See https://ipywidgets.readthedocs.io/en/stable/user_install.html\n",
      "  from .autonotebook import tqdm as notebook_tqdm\n"
     ]
    }
   ],
   "source": [
    "import pandas as pd\n",
    "import numpy as np\n",
    "from autogluon.tabular import TabularDataset, TabularPredictor\n",
    "from datetime import datetime, timedelta\n",
    "\n",
    "# train, test, sample_submission, building 정보 로드\n",
    "train_df = pd.read_csv('./train.csv')\n",
    "test_df = pd.read_csv('./test.csv')\n",
    "sample_submission = pd.read_csv('./sample_submission.csv')\n",
    "building_df = pd.read_csv('./building_info.csv')"
   ]
  },
  {
   "cell_type": "code",
   "execution_count": 2,
   "metadata": {},
   "outputs": [],
   "source": [
    "def classify_weekdays(start_date, end_date):\n",
    "    date_format = \"%Y-%m-%d\"\n",
    "    start = datetime.strptime(start_date, date_format)\n",
    "    end = datetime.strptime(end_date, date_format)\n",
    "    \n",
    "    classification = []\n",
    "    current_date = start\n",
    "    \n",
    "    while current_date <= end:\n",
    "        if current_date.weekday() < 5:  # 0: 월요일, 1: 화요일, ..., 4: 금요일\n",
    "            classification.append(0)  # 평일\n",
    "        else:\n",
    "            classification.append(1)  # 주말\n",
    "        \n",
    "        current_date += timedelta(days=1)\n",
    "    \n",
    "    return classification"
   ]
  },
  {
   "cell_type": "code",
   "execution_count": 3,
   "metadata": {},
   "outputs": [],
   "source": [
    "data = {'date': pd.date_range(start='2022-06-01', end='2022-08-24')}\n",
    "train = pd.DataFrame(data)\n",
    "t_data = {'date': pd.date_range(start='2022-08-25', end='2022-08-31')}\n",
    "test = pd.DataFrame(t_data)"
   ]
  },
  {
   "cell_type": "code",
   "execution_count": 4,
   "metadata": {},
   "outputs": [],
   "source": [
    "start_date = \"2022-06-01\"\n",
    "end_date = \"2022-08-24\"\n",
    "test_start_date = \"2022-08-25\"\n",
    "test_end_date = \"2022-08-31\"\n",
    "train['holidays'] = classify_weekdays(start_date, end_date)\n",
    "train_df['holidays'] = train['holidays']\n",
    "test['holidays'] = classify_weekdays(test_start_date, test_end_date)\n",
    "test_df['holidays'] = test['holidays']"
   ]
  },
  {
   "cell_type": "code",
   "execution_count": 5,
   "metadata": {},
   "outputs": [],
   "source": [
    "train_df['일시'] = pd.to_datetime(train_df['일시'], format='%Y%m%d %H')\n",
    "test_df['일시'] = pd.to_datetime(test_df['일시'], format='%Y%m%d %H')\n",
    "\n",
    "train_df['hour'] = train_df['일시'].dt.hour\n",
    "train_df['day'] = train_df['일시'].dt.day\n",
    "train_df['month'] = train_df['일시'].dt.month\n",
    "train_df['year'] = train_df['일시'].dt.year\n",
    "train_df['sin_time'] = np.sin(2*np.pi*train_df.hour/24)\n",
    "train_df['cos_time'] = np.cos(2*np.pi*train_df.hour/24)\n",
    "\n",
    "test_df['hour'] = test_df['일시'].dt.hour\n",
    "test_df['day'] = test_df['일시'].dt.day\n",
    "test_df['month'] = test_df['일시'].dt.month\n",
    "test_df['year'] = test_df['일시'].dt.year\n",
    "test_df['sin_time'] = np.sin(2*np.pi*test_df.hour/24)\n",
    "test_df['cos_time'] = np.cos(2*np.pi*test_df.hour/24)\n",
    "train_df['THI'] = 9/5*train_df['기온(C)'] - 0.55*(1-train_df['습도(%)']/100)*(9/5*train_df['습도(%)']-26)+32\n",
    "test_df['THI'] = 9/5*test_df['기온(C)'] - 0.55*(1-test_df['습도(%)']/100)*(9/5*test_df['습도(%)']-26)+32"
   ]
  },
  {
   "cell_type": "code",
   "execution_count": 6,
   "metadata": {},
   "outputs": [
    {
     "ename": "NameError",
     "evalue": "name 'label' is not defined",
     "output_type": "error",
     "traceback": [
      "\u001b[1;31m---------------------------------------------------------------------------\u001b[0m",
      "\u001b[1;31mNameError\u001b[0m                                 Traceback (most recent call last)",
      "Cell \u001b[1;32mIn[6], line 1\u001b[0m\n\u001b[1;32m----> 1\u001b[0m ensemble_predictor \u001b[39m=\u001b[39m TabularPredictor(label\u001b[39m=\u001b[39mlabel, problem_type\u001b[39m=\u001b[39m\u001b[39m'\u001b[39m\u001b[39mregression\u001b[39m\u001b[39m'\u001b[39m)\n\u001b[0;32m      2\u001b[0m \u001b[39mfor\u001b[39;00m fold_idx, fold_data \u001b[39min\u001b[39;00m \u001b[39menumerate\u001b[39m(train_folds):\n\u001b[0;32m      3\u001b[0m     \u001b[39mprint\u001b[39m(\u001b[39mf\u001b[39m\u001b[39m\"\u001b[39m\u001b[39mTraining fold \u001b[39m\u001b[39m{\u001b[39;00mfold_idx\u001b[39m \u001b[39m\u001b[39m+\u001b[39m\u001b[39m \u001b[39m\u001b[39m1\u001b[39m\u001b[39m}\u001b[39;00m\u001b[39m\"\u001b[39m)\n",
      "\u001b[1;31mNameError\u001b[0m: name 'label' is not defined"
     ]
    }
   ],
   "source": [
    "ensemble_predictor = TabularPredictor(label=label, problem_type='regression')\n",
    "for fold_idx, fold_data in enumerate(train_folds):\n",
    "    print(f\"Training fold {fold_idx + 1}\")\n",
    "    \n",
    "    data = {'일시': pd.date_range(start=date_ranges[fold_idx][0], end=date_ranges[fold_idx][1])}\n",
    "    fold_train = pd.DataFrame(data)\n",
    "    \n",
    "    holidays = classify_weekdays(date_ranges[fold_idx][0], date_ranges[fold_idx][1])\n",
    "    fold_train['holidays'] = holidays\n",
    "    \n",
    "    # '기온(C)' 열 생성 또는 가져오기 (실제 데이터에 맞게)\n",
    "    fold_train['기온(C)'] = np.random.randint(10, 30, size=len(fold_train))\n",
    "    \n",
    "    fold_train['hour'] = fold_train['일시'].dt.hour\n",
    "    fold_train['day'] = fold_train['일시'].dt.day\n",
    "    fold_train['month'] = fold_train['일시'].dt.month\n",
    "    fold_train['year'] = fold_train['일시'].dt.year\n",
    "    fold_train['sin_time'] = np.sin(2*np.pi*fold_train.hour/24)\n",
    "    fold_train['cos_time'] = np.cos(2*np.pi*fold_train.hour/24)\n",
    "    fold_train['THI'] = 9/5*fold_train['기온(C)'] - 0.55*(1-fold_train['습도(%)']/100)*(9/5*fold_train['습도(%)']-26)+32\n",
    "    fold_train = fold_train.drop(columns=['일조(hr)', '일사(MJ/m2)', '강수량(mm)', '풍속(m/s)'])\n",
    "    \n",
    "    fold_train_data = TabularDataset(fold_train)\n",
    "    ensemble_predictor.fit(fold_train_data)"
   ]
  },
  {
   "cell_type": "code",
   "execution_count": null,
   "metadata": {},
   "outputs": [],
   "source": [
    "test_df['일시'] = pd.to_datetime(test_df['일시'], format='%Y%m%d %H')\n",
    "test_df['hour'] = test_df['일시'].dt.hour\n",
    "test_df['day'] = test_df['일시'].dt.day\n",
    "test_df['month'] = test_df['일시'].dt.month\n",
    "test_df['year'] = test_df['일시'].dt.year\n",
    "test_df['sin_time'] = np.sin(2*np.pi*test_df.hour/24)\n",
    "test_df['cos_time'] = np.cos(2*np.pi*test_df.hour/24)\n",
    "test_df['THI'] = 9/5*test_df['기온(C)'] - 0.55*(1-test_df['습도(%)']/100)*(9/5*test_df['습도(%)']-26)+32\n",
    "test_data = TabularDataset(test_df)\n",
    "\n",
    "predictions = ensemble_predictor.predict(test_data)\n",
    "\n",
    "sample_submission['answer'] = predictions['전력소비량(kWh)']\n",
    "sample_submission.to_csv('./baseline_submission_kfold.csv', index=False)"
   ]
  }
 ],
 "metadata": {
  "kernelspec": {
   "display_name": "Python 3",
   "language": "python",
   "name": "python3"
  },
  "language_info": {
   "codemirror_mode": {
    "name": "ipython",
    "version": 3
   },
   "file_extension": ".py",
   "mimetype": "text/x-python",
   "name": "python",
   "nbconvert_exporter": "python",
   "pygments_lexer": "ipython3",
   "version": "3.9.13"
  },
  "orig_nbformat": 4
 },
 "nbformat": 4,
 "nbformat_minor": 2
}
